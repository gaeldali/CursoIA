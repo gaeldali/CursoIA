{
  "nbformat": 4,
  "nbformat_minor": 0,
  "metadata": {
    "colab": {
      "provenance": [],
      "authorship_tag": "ABX9TyP+5dQwjFot8+sKxokOqxq7",
      "include_colab_link": true
    },
    "kernelspec": {
      "name": "python3",
      "display_name": "Python 3"
    },
    "language_info": {
      "name": "python"
    }
  },
  "cells": [
    {
      "cell_type": "markdown",
      "metadata": {
        "id": "view-in-github",
        "colab_type": "text"
      },
      "source": [
        "<a href=\"https://colab.research.google.com/github/gaeldali/CursoIA/blob/main/Untitled0.ipynb\" target=\"_parent\"><img src=\"https://colab.research.google.com/assets/colab-badge.svg\" alt=\"Open In Colab\"/></a>"
      ]
    },
    {
      "cell_type": "markdown",
      "source": [
        "Tipos de Machine Learning (ML):\n",
        "\n",
        "Aprendizaje Supervisado: Usa datos etiquetados para entrenar modelos. Ejemplos: clasificación (ej. spam/no spam) y regresión (ej. predecir precios). Algoritmos comunes: Regresión Lineal, Random Forest.\n",
        "\n",
        "Aprendizaje No Supervisado: Trabaja con datos sin etiquetas para encontrar patrones. Ejemplos: clustering (ej. segmentar clientes). Algoritmos comunes: K-Means, PCA.\n",
        "\n",
        "Aprendizaje por Refuerzo: El modelo aprende mediante recompensas en un entorno. Ejemplo: robots autónomos. Algoritmos: Q-Learning.\n",
        "\n",
        "Definición de IA:\n",
        "Sistemas que realizan tareas humanas (razonar, aprender, percibir) mediante algoritmos y datos.\n",
        "\n",
        "Modelos de IA:\n",
        "\n",
        "Redes Neuronales (CNN para imágenes).\n",
        "\n",
        "Modelos de Lenguaje (GPT para texto).\n",
        "\n",
        "Árboles de Decisión (Random Forest para clasificación).\n",
        "\n",
        "Predicción de deserción estudiantil:\n",
        "Tipo ideal: Aprendizaje Supervisado (Clasificación).\n",
        "Por qué:\n",
        "\n",
        "Hay datos históricos etiquetados (ej. notas, asistencia).\n",
        "\n",
        "El objetivo es predecir \"abandona\" (1) o \"no abandona\" (0).\n",
        "\n",
        "Algoritmos recomendados: Regresión Logística, Random Forest (maneja datos desbalanceados)."
      ],
      "metadata": {
        "id": "OZ54MnrBzy0H"
      }
    }
  ]
}